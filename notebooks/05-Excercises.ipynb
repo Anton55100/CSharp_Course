{
 "cells": [
  {
   "cell_type": "markdown",
   "metadata": {},
   "source": [
    "## Condiciontal Statement\n",
    "\n",
    "1. Write an `if` statement that examines two integer variables and exchanges their values if the first one is greater than the second one."
   ]
  },
  {
   "cell_type": "code",
   "execution_count": null,
   "metadata": {},
   "outputs": [],
   "source": [
    "Console.WriteLine(\"Enter 2 numbers: \");\n",
    "Console.Write(\"   1: \");\n",
    "int first = int.Parse(Console.ReadLine());\n",
    "Console.Write(\"   2: \");\n",
    "int second = int.Parse(Console.ReadLine());\n",
    "\n",
    "if (first > second)\n",
    "{\n",
    "    int swap = first;\n",
    "    first = second;\n",
    "    second = swap;\n",
    "}\n",
    "\n",
    "Console.WriteLine(\"\\nGreater number -> {0}\", second);\n",
    "Console.WriteLine(\"Smaller number -> {0}\\n\", first);"
   ]
  },
  {
   "cell_type": "markdown",
   "metadata": {},
   "source": [
    "2. Write a program that shows the sign (+ or -) of the product of three real numbers without calculating it. Use a sequence of `if` statements."
   ]
  },
  {
   "cell_type": "code",
   "execution_count": null,
   "metadata": {},
   "outputs": [],
   "source": [
    "double first = -2.132;\n",
    "double second = 4.523;\n",
    "double third = -23.42;\n",
    "\n",
    "if (first * second * third < 0)\n",
    "{\n",
    "    Console.WriteLine(\"{0} * {1} * {2} -> sign (-)\\n\", first, second, third);\n",
    "}\n",
    "else\n",
    "{\n",
    "    Console.WriteLine(\"{0} * {1} * {2} -> sign (+)\\n\", first, second, third);\n",
    "}"
   ]
  },
  {
   "cell_type": "markdown",
   "metadata": {},
   "source": [
    "3. Write a program that finds the biggest of three integers using nested `if` statements."
   ]
  },
  {
   "cell_type": "code",
   "execution_count": null,
   "metadata": {},
   "outputs": [],
   "source": [
    "Console.WriteLine(\"Enter three numbers: \");\n",
    "Console.Write(\"   1: \"); decimal first = decimal.Parse(Console.ReadLine());\n",
    "Console.Write(\"   2: \"); decimal second = decimal.Parse(Console.ReadLine());\n",
    "Console.Write(\"   3: \"); decimal third = decimal.Parse(Console.ReadLine());\n",
    "\n",
    "if (first > second)\n",
    "{\n",
    "    if (second > third)\n",
    "    {\n",
    "        Console.WriteLine(\"\\nBiggest number: {0}\\n\", first);\n",
    "    }\n",
    "    else if (third > second)\n",
    "    {\n",
    "        if (third > first)\n",
    "        {\n",
    "            Console.WriteLine(\"\\nBiggest number: {0}\\n\", third);\n",
    "        }\n",
    "        else\n",
    "        {\n",
    "            Console.WriteLine(\"\\nBiggest number: {0}\\n\", first);\n",
    "        }\n",
    "    }\n",
    "}\n",
    "else if (second > third)\n",
    "{\n",
    "    Console.WriteLine(\"\\nBiggest number: {0}\\n\", second);\n",
    "}\n",
    "else\n",
    "{\n",
    "    Console.WriteLine(\"\\nBiggest number: {0}\\n\", third);\n",
    "}\n"
   ]
  },
  {
   "cell_type": "markdown",
   "metadata": {},
   "source": [
    "4. Sort 3 real values in descending order using nested `if` statements."
   ]
  },
  {
   "cell_type": "code",
   "execution_count": null,
   "metadata": {},
   "outputs": [],
   "source": [
    "Console.WriteLine(\"Enter 3 real numbers: \");\n",
    "Console.Write(\"   1: \"); double first = double.Parse(Console.ReadLine());\n",
    "Console.Write(\"   2: \"); double second = double.Parse(Console.ReadLine());\n",
    "Console.Write(\"   3: \"); double third = double.Parse(Console.ReadLine());\n",
    "double swap = 0;\n",
    "\n",
    "if (first > second)\n",
    "{\n",
    "    if (first > third)\n",
    "    {\n",
    "        swap = first;\n",
    "        first = third;\n",
    "        third = swap;\n",
    "    }\n",
    "\n",
    "    if (first > second)\n",
    "    {\n",
    "        swap = first;\n",
    "        first = second;\n",
    "        second = swap;\n",
    "    }\n",
    "}\n",
    "else if (second > third)\n",
    "{\n",
    "    if (first > third)\n",
    "    {\n",
    "        swap = first;\n",
    "        first = third;\n",
    "        third = swap;\n",
    "    }\n",
    "\n",
    "    if (second > third)\n",
    "    {\n",
    "        swap = second;\n",
    "        second = third;\n",
    "        third = swap;\n",
    "    }\n",
    "}\n",
    "\n",
    "Console.WriteLine(\"\\nNumbers in descending order: {0} < {1} < {2}\\n\", first, second, third);"
   ]
  },
  {
   "cell_type": "markdown",
   "metadata": {},
   "source": [
    "5. Write a program that asks for a digit and depending on the input shows the name of that digit (in English) using a `switch` statement."
   ]
  },
  {
   "cell_type": "code",
   "execution_count": null,
   "metadata": {},
   "outputs": [],
   "source": [
    "Console.Write(\"Enter a digit [0;9]: \");\n",
    "byte digit = byte.Parse(Console.ReadLine());\n",
    "Console.Write(\"\\nResult: \");\n",
    "\n",
    "switch (digit)\n",
    "{\n",
    "    case 0:\n",
    "        Console.WriteLine(\"{0} -> Zero\", digit);\n",
    "        break;\n",
    "    case 1:\n",
    "        Console.WriteLine(\"{0} -> One\", digit);\n",
    "        break;\n",
    "    case 2:\n",
    "        Console.WriteLine(\"{0} -> Two\", digit);\n",
    "        break;\n",
    "    case 3:\n",
    "        Console.WriteLine(\"{0} -> Three\", digit);\n",
    "        break;\n",
    "    case 4:\n",
    "        Console.WriteLine(\"{0} -> Four\", digit);\n",
    "        break;\n",
    "    case 5:\n",
    "        Console.WriteLine(\"{0} -> Five\", digit);\n",
    "        break;\n",
    "    case 6:\n",
    "        Console.WriteLine(\"{0} -> Six\", digit);\n",
    "        break;\n",
    "    case 7:\n",
    "        Console.WriteLine(\"{0} -> Seven\", digit);\n",
    "        break;\n",
    "    case 8:\n",
    "        Console.WriteLine(\"{0} -> Eight\", digit);\n",
    "        break;\n",
    "    case 9:\n",
    "        Console.WriteLine(\"{0} -> Nine\", digit);\n",
    "        break;\n",
    "    default:\n",
    "        Console.WriteLine(\"Value [{0}] is out of the range [0,9]...\", digit);\n",
    "        break;\n",
    "}"
   ]
  },
  {
   "cell_type": "markdown",
   "metadata": {},
   "source": [
    "6. Write a program that, depending on the user's choice inputs `int`, `double` or `string` variable. If the variable is integer or double, increases it with 1. If the variable is string, appends `*` at its end. The program must show the value of that variable as a console output. Use `switch` statement."
   ]
  },
  {
   "cell_type": "code",
   "execution_count": null,
   "metadata": {},
   "outputs": [],
   "source": [
    "double number = 0;\n",
    "string text = string.Empty;\n",
    "\n",
    "Console.WriteLine(\"Choose type of variable: \");\n",
    "Console.WriteLine(\"   1: int\");\n",
    "Console.WriteLine(\"   2: double\");\n",
    "Console.WriteLine(\"   3: string\");\n",
    "Console.Write(\"-> Enter your choice: \");\n",
    "\n",
    "switch (Console.ReadLine())\n",
    "{\n",
    "    case \"1\":\n",
    "        Console.Write(\"\\nEnter integer number: \");\n",
    "        number = int.Parse(Console.ReadLine());\n",
    "        Console.WriteLine(\"New value -> {0}\\n\", number + 1);\n",
    "        break;\n",
    "    case \"2\":\n",
    "        Console.Write(\"\\nEnter real number: \");\n",
    "        number = double.Parse(Console.ReadLine());\n",
    "        Console.WriteLine(\"New value -> {0}\\n\", number + 1);\n",
    "        break;\n",
    "    case \"3\":\n",
    "        Console.Write(\"\\nEnter a text: \");\n",
    "        text = Console.ReadLine();\n",
    "        Console.WriteLine(\"New value -> {0}*\\n\", text);\n",
    "        break;\n",
    "    default:\n",
    "        Console.WriteLine(\"\\nError! Wrong input data!\\n\");\n",
    "        break;\n",
    "}"
   ]
  }
 ],
 "metadata": {
  "language_info": {
   "name": "python"
  },
  "orig_nbformat": 4
 },
 "nbformat": 4,
 "nbformat_minor": 2
}
