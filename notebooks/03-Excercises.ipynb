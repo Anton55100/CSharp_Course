{
 "cells": [
  {
   "cell_type": "markdown",
   "metadata": {},
   "source": [
    "# Operators, Expressions and Statements\n",
    "\n",
    "1. Write an expression that checks if given integer is odd or even."
   ]
  },
  {
   "cell_type": "code",
   "execution_count": null,
   "metadata": {},
   "outputs": [],
   "source": [
    "int number = 123; //CHANGE\n",
    "Console.WriteLine(\"Number {0} is {1}\", number, number % 2 == 0 ? \"Even\" : \"Odd\");"
   ]
  },
  {
   "cell_type": "markdown",
   "metadata": {},
   "source": [
    "2. Write a boolean expression that checks for given integer if it can be divided (without remainder) by 7 and 5 in the same time."
   ]
  },
  {
   "cell_type": "code",
   "execution_count": null,
   "metadata": {},
   "outputs": [],
   "source": [
    "int number = 70;  //CHANGE\n",
    "Console.WriteLine(\"Number {0} can be devided (without remainder) by 7 and 5 in the same time: {1}\", number, number % 35 == 0);"
   ]
  },
  {
   "cell_type": "markdown",
   "metadata": {},
   "source": [
    "3. Write an expression that calculates rectangle's area by given width and height."
   ]
  },
  {
   "cell_type": "code",
   "execution_count": null,
   "metadata": {},
   "outputs": [],
   "source": [
    "double width = 20;   //CHANGE\n",
    "double height = 10;  //CHANGE\n",
    "\n",
    "Console.WriteLine(\"Rectangle area: {0} units\", width * height);"
   ]
  },
  {
   "cell_type": "markdown",
   "metadata": {},
   "source": [
    "4. Write an expression that checks for given integer if its third digit (right-to-left) is 7. Example: 1732 -> true."
   ]
  },
  {
   "cell_type": "code",
   "execution_count": null,
   "metadata": {},
   "outputs": [],
   "source": [
    "int number = 1732;\n",
    "\n",
    "Console.WriteLine(\"Third digit of {0} is 7: {1}\", number, number / 100 % 10 == 7);"
   ]
  },
  {
   "cell_type": "markdown",
   "metadata": {},
   "source": [
    "5. Write a boolean expression for finding if the bit 3 (counting from 0) of a given integer is 1 or 0."
   ]
  },
  {
   "cell_type": "code",
   "execution_count": null,
   "metadata": {},
   "outputs": [],
   "source": [
    "int number = 7;\n",
    "\n",
    "Console.WriteLine(\"Third bit of {0} is {1}\", number, (number >> 3) & 1);"
   ]
  },
  {
   "cell_type": "markdown",
   "metadata": {},
   "source": [
    "6. Write an expression that calculates trapezoid's area by given sides a and b and height h."
   ]
  },
  {
   "cell_type": "code",
   "execution_count": null,
   "metadata": {},
   "outputs": [],
   "source": [
    "double a = 10;\n",
    "double b = 5;\n",
    "double height = 2;\n",
    "\n",
    "Console.WriteLine(\"Trapezoid area is: {0} units\", (a + b) / 2 * height);"
   ]
  },
  {
   "cell_type": "markdown",
   "metadata": {},
   "source": [
    "7. Write an expression that extracts from a given integer i the value of a given bit number b. Example: i=5; b=2 -> value=1."
   ]
  },
  {
   "cell_type": "code",
   "execution_count": null,
   "metadata": {},
   "outputs": [],
   "source": [
    "int number = 5;\n",
    "byte bitPosition = 2;\n",
    "\n",
    "byte bit = (byte)((number >> bitPosition) & 1);\n",
    "\n",
    "Console.WriteLine(\"Bit at position {0} of number {1} is {2}\", bitPosition, number, bit);"
   ]
  },
  {
   "cell_type": "markdown",
   "metadata": {},
   "source": [
    "8. Write a boolean expression that returns if the bit at position p (counting from 0) in a given integer v has value of 1. Example: v=5; p=1 -> false."
   ]
  },
  {
   "cell_type": "code",
   "execution_count": null,
   "metadata": {},
   "outputs": [],
   "source": [
    "int number = 5;\n",
    "\n",
    "byte bitPosition = 1;\n",
    "\n",
    "byte bit = (byte)((number >> bitPosition) & 1);\n",
    "\n",
    "Console.WriteLine(\"Bit at position {0} of number {1} is 1: {2}\", bitPosition, number, bit == 1 ? true : false);"
   ]
  }
 ],
 "metadata": {
  "language_info": {
   "name": "python"
  },
  "orig_nbformat": 4
 },
 "nbformat": 4,
 "nbformat_minor": 2
}
