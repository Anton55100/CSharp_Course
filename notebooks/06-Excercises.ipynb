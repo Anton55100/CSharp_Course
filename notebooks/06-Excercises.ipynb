{
 "cells": [
  {
   "cell_type": "markdown",
   "metadata": {},
   "source": [
    "## Loops\n",
    "\n",
    "1. Write a program that prints all the numbers from 1 to `N`."
   ]
  },
  {
   "cell_type": "code",
   "execution_count": null,
   "metadata": {},
   "outputs": [],
   "source": [
    "Console.Write(\"Enter a number: \");\n",
    "int number = int.Parse(Console.ReadLine());\n",
    "\n",
    "Console.Write(\"\\nAll number from [1] to [{0}]: \", number);\n",
    "\n",
    "for (int i = 1; i <= number; i++)\n",
    "{\n",
    "    Console.Write(i);\n",
    "\n",
    "    if (i < number)\n",
    "        Console.Write(\", \");\n",
    "}\n",
    "\n",
    "Console.WriteLine(\"\\n\");"
   ]
  },
  {
   "cell_type": "markdown",
   "metadata": {},
   "source": [
    "2. Write a program that prints all the numbers from 1 to `N`, that are not divisible by 3 and 7 at the same time."
   ]
  },
  {
   "cell_type": "code",
   "execution_count": null,
   "metadata": {},
   "outputs": [],
   "source": [
    "Console.Write(\"Enter a number: \");\n",
    "int number = int.Parse(Console.ReadLine());\n",
    "\n",
    "Console.Write(\"\\nAll number from [1] to [{0}], that are not divisible by [21]: \", number);\n",
    "\n",
    "for (int i = 1; i <= number; i++)\n",
    "{\n",
    "    if (i % 21 != 0)\n",
    "        Console.Write(i);\n",
    "\n",
    "    if (i < number && i % 21 != 0)\n",
    "        Console.Write(\", \");\n",
    "}\n",
    "\n",
    "Console.WriteLine(\"\\n\");"
   ]
  },
  {
   "cell_type": "markdown",
   "metadata": {},
   "source": [
    "3. Write a program that reads from the console a sequence of `N` integers and returns the minimal and maximal of them."
   ]
  },
  {
   "cell_type": "code",
   "execution_count": null,
   "metadata": {},
   "outputs": [],
   "source": [
    "Console.Write(\"Enter a number of numbers: \");\n",
    "byte totalNumbers = byte.Parse(Console.ReadLine());\n",
    "\n",
    "Console.Write(\"   1: \");\n",
    "int min = int.Parse(Console.ReadLine());\n",
    "int max = min;\n",
    "\n",
    "for (int i = 2; i <= totalNumbers; i++)\n",
    "{\n",
    "    Console.Write(\"   {0}: \", i);\n",
    "    int number = int.Parse(Console.ReadLine());\n",
    "    \n",
    "    if (number > max)\n",
    "        max = number;\n",
    "    else if (number < min)\n",
    "        min = number;\n",
    "}\n",
    "\n",
    "Console.WriteLine(\"\\nGreatest number: {0}\", max);\n",
    "Console.WriteLine(\"Smaller number: {0}\\n\", min);"
   ]
  },
  {
   "cell_type": "markdown",
   "metadata": {},
   "source": [
    "4. Write a program that calculates **N!/K!** for given `N` and `K` (1 < K < N)."
   ]
  },
  {
   "cell_type": "code",
   "execution_count": null,
   "metadata": {},
   "outputs": [],
   "source": [
    "Console.WriteLine(\"You should to enter two numbers (N > K > 1)\");\n",
    "\n",
    "Console.Write(\"-> K: \");\n",
    "int k = int.Parse(Console.ReadLine());\n",
    "\n",
    "Console.Write(\"-> N: \");\n",
    "int n = int.Parse(Console.ReadLine());\n",
    "\n",
    "if (n < k || n < 1 || k < 1)\n",
    "{\n",
    "    Console.WriteLine(\"\\nWrong input! Тhe condition is not satisfied (N > K > 1)...\\n\");\n",
    "    return;\n",
    "}\n",
    "\n",
    "BigInteger factorial = 1;\n",
    "for (int i = k + 1; i <= n; i++)\n",
    "{\n",
    "    factorial *= i;\n",
    "}\n",
    "\n",
    "Console.WriteLine(\"\\nResult: {0}!/{1}! = {2}\\n\", k, n, factorial);"
   ]
  }
 ],
 "metadata": {
  "language_info": {
   "name": "python"
  },
  "orig_nbformat": 4
 },
 "nbformat": 4,
 "nbformat_minor": 2
}
