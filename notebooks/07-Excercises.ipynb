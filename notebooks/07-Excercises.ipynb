{
 "cells": [
  {
   "cell_type": "markdown",
   "metadata": {},
   "source": [
    "## Arrays\n",
    "\n",
    "1. Write a program that allocates array of **20** integers and initializes each element by its index multiplied by **5**. Print the obtained array on the console."
   ]
  },
  {
   "cell_type": "code",
   "execution_count": null,
   "metadata": {},
   "outputs": [],
   "source": [
    "int[] numbers = new int[20];\n",
    "for (int i = 0; i < numbers.Length; i++)\n",
    "    Console.WriteLine(\"Index: {0,2}  /  Number: {1,2}\", i, numbers[i] = i * 5);"
   ]
  },
  {
   "cell_type": "markdown",
   "metadata": {},
   "source": [
    "2. Write a program that reads two arrays from the console and compares them element by element."
   ]
  },
  {
   "cell_type": "code",
   "execution_count": null,
   "metadata": {},
   "outputs": [],
   "source": [
    "Console.Write(\"Enter size of first array: \");\n",
    "int[] firstArray = new int[int.Parse(Console.ReadLine())];\n",
    "Console.WriteLine(\"\\nEnter a {0} number(s) to array: \", firstArray.Length);\n",
    "for (int i = 0; i < firstArray.Length; i++)\n",
    "{\n",
    "    Console.Write(\"   {0}: \", i + 1);\n",
    "    firstArray[i] = int.Parse(Console.ReadLine());\n",
    "}\n",
    "\n",
    "Console.Write(\"\\nEnter size of second array: \");\n",
    "int[] secondArray = new int[int.Parse(Console.ReadLine())];\n",
    "Console.WriteLine(\"\\nEnter a {0} number(s) to array: \", secondArray.Length);\n",
    "for (int i = 0; i < secondArray.Length; i++)\n",
    "{\n",
    "    Console.Write(\"   {0}: \", i + 1);\n",
    "    secondArray[i] = int.Parse(Console.ReadLine());\n",
    "}\n",
    "\n",
    "if (firstArray.Length > secondArray.Length)\n",
    "{\n",
    "    Console.WriteLine(\"\\nResult -> The first array has bigger size than the second one.\\n\");\n",
    "}\n",
    "else if (firstArray.Length < secondArray.Length)\n",
    "{\n",
    "    Console.WriteLine(\"\\nResult -> The second array has bigger size than the first one.\\n\");\n",
    "}\n",
    "else\n",
    "{\n",
    "    Array.Sort(firstArray);\n",
    "    Array.Sort(secondArray);\n",
    "\n",
    "    Console.WriteLine(\"\\nResult: \");\n",
    "    Console.WriteLine(\"1) The two arrays have equals sizes.\");\n",
    "\n",
    "    // Compares two arrays element-by-element \n",
    "    for (int i = 0; i < firstArray.Length; i++)\n",
    "    {\n",
    "        if (firstArray[i] != secondArray[i])\n",
    "        {\n",
    "            Console.WriteLine(\"2) And different elements.\\n\");\n",
    "            return;\n",
    "        }\n",
    "    }\n",
    "\n",
    "    Console.WriteLine(\"2) And equal elements.\\n\");\n",
    "}"
   ]
  },
  {
   "cell_type": "markdown",
   "metadata": {},
   "source": [
    "3. Write a program that compares two char arrays lexicographically (letter by letter)."
   ]
  },
  {
   "cell_type": "code",
   "execution_count": null,
   "metadata": {},
   "outputs": [],
   "source": [
    "Console.Write(\"Enter first word (on one line, without spaces): \");\n",
    "string firstWord = Console.ReadLine();\n",
    "\n",
    "Console.Write(\"\\nEnter second word (on one line, without spaces): \");\n",
    "string secondWord = Console.ReadLine();\n",
    "\n",
    "int smallerSize = Math.Min(firstWord.Length, secondWord.Length);\n",
    "\n",
    "bool equal = false;\n",
    "for (int i = 0; i < smallerSize; i++)\n",
    "{\n",
    "    if (firstWord[i] < secondWord[i])\n",
    "    {\n",
    "        Console.WriteLine(\"\\nResult -> The first array is lexicographically before the second one.\\n\");\n",
    "        break;\n",
    "    }\n",
    "    else if (firstWord[i] > secondWord[i])\n",
    "    {\n",
    "        Console.WriteLine(\"\\nResult -> The second array is lexicographically before the first one.\\n\");\n",
    "        break;\n",
    "    }\n",
    "    else if (i == smallerSize - 1 && firstWord.Length != secondWord.Length)\n",
    "    {\n",
    "        Console.WriteLine(\n",
    "            \"\\nResult -> The {0} array is lexicographically before the {1} one.\\n\",\n",
    "            firstWord.Length > secondWord.Length ? \"second\" : \"first\",\n",
    "            firstWord.Length > secondWord.Length ? \"first\" : \"second\");\n",
    "        break;\n",
    "    }\n",
    "    equal = true;\n",
    "}\n",
    "\n",
    "if (equal)\n",
    "    Console.WriteLine(\"\\nResult -> The arrays have equal element!\\n\");"
   ]
  }
 ],
 "metadata": {
  "language_info": {
   "name": "python"
  },
  "orig_nbformat": 4
 },
 "nbformat": 4,
 "nbformat_minor": 2
}
