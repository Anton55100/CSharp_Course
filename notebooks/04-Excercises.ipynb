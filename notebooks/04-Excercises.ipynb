{
 "cells": [
  {
   "cell_type": "markdown",
   "metadata": {},
   "source": [
    "## Console Input/Output\n",
    "\n",
    "1. Write a program that reads 3 integers from the console and prints their sum."
   ]
  },
  {
   "cell_type": "code",
   "execution_count": null,
   "metadata": {},
   "outputs": [],
   "source": [
    "Console.WriteLine(\"Enter 3 numbers ->\");\n",
    "int i1 = int.Parse(Console.ReadLine());\n",
    "int i2 = int.Parse(Console.ReadLine());\n",
    "int i3 = int.Parse(Console.ReadLine());\n",
    "\n",
    "Console.WriteLine(\"Sum of numbers: {0}\", i1+i2+i3);"
   ]
  },
  {
   "cell_type": "markdown",
   "metadata": {},
   "source": [
    "2. Write a program that reads the radius r of a circle and prints its perimeter and area."
   ]
  },
  {
   "cell_type": "code",
   "execution_count": null,
   "metadata": {},
   "outputs": [],
   "source": [
    "Console.Write(\"Enter circle's radius: \");\n",
    "double r = double.Parse(Console.ReadLine());\n",
    "\n",
    "Console.WriteLine(\" -> Perimeter: {0:F6}\\n -> Area: {1:F6}\\n\", 2 * r * Math.PI, r * r * Math.PI);"
   ]
  },
  {
   "cell_type": "markdown",
   "metadata": {},
   "source": [
    "3. A company has name, address, phone number, fax number and web site. Write a program that reads the information about a company and prints them on the console."
   ]
  },
  {
   "cell_type": "code",
   "execution_count": null,
   "metadata": {},
   "outputs": [],
   "source": [
    "Console.WriteLine(\"\\n\\nEnter information about your company:\\n\");\n",
    "Console.ResetColor();\n",
    "\n",
    "Console.Write(\"Company name: \");\n",
    "string name = Console.ReadLine();\n",
    "\n",
    "Console.Write(\"Adress: \");\n",
    "string address = Console.ReadLine();\n",
    "\n",
    "Console.Write(\"Phone number: \");\n",
    "string phoneNumber = Console.ReadLine();\n",
    "\n",
    "Console.Write(\"Fax number: \");\n",
    "string faxNumber = Console.ReadLine();\n",
    "\n",
    "Console.Write(\"Website: \");\n",
    "string webSite = Console.ReadLine();\n",
    "\n",
    "Console.WriteLine(\"\\nInformation about \\\"{0}\\\" Company: \", name);\n",
    "if (name != null)\n",
    "    Console.WriteLine(\"   Company name: {0}\", name);\n",
    "if (address != null)\n",
    "    Console.WriteLine(\"   Adress: {0}\", address);\n",
    "if (phoneNumber != null)\n",
    "    Console.WriteLine(\"   Phone Number: {0}\", phoneNumber);\n",
    "if (faxNumber != null)\n",
    "    Console.WriteLine(\"   Fax Number: {0}\", faxNumber);\n",
    "if (webSite != null)\n",
    "    Console.WriteLine(\"   Website: {0}\", webSite);"
   ]
  },
  {
   "cell_type": "markdown",
   "metadata": {},
   "source": [
    "4. Write a program that gets two numbers from the console and prints the greater of them. Don't use if statements."
   ]
  },
  {
   "cell_type": "code",
   "execution_count": null,
   "metadata": {},
   "outputs": [],
   "source": [
    "Console.WriteLine(\"Enter two number: \");\n",
    "        \n",
    "Console.Write(\"   First: \");\n",
    "int first = int.Parse(Console.ReadLine());\n",
    "\n",
    "Console.Write(\"   Second: \");\n",
    "int second = int.Parse(Console.ReadLine());\n",
    "\n",
    "Console.WriteLine(\"\\nGreater number: {0}\\n\", Math.Max(first, second));"
   ]
  }
 ],
 "metadata": {
  "language_info": {
   "name": "python"
  },
  "orig_nbformat": 4
 },
 "nbformat": 4,
 "nbformat_minor": 2
}
